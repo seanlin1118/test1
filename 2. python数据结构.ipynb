{
 "cells": [
  {
   "cell_type": "markdown",
   "metadata": {},
   "source": [
    "# Python数据结构"
   ]
  },
  {
   "cell_type": "markdown",
   "metadata": {
    "collapsed": true
   },
   "source": [
    "## python有4个内建的数据结构，可以统称为容器 (Container)"
   ]
  },
  {
   "cell_type": "markdown",
   "metadata": {},
   "source": [
    "## 2.1 认识数据结构类型"
   ]
  },
  {
   "cell_type": "markdown",
   "metadata": {},
   "source": [
    " 认识数据结构类型\n",
    " 1. 序列类型\n",
    " 列表 (List)\n",
    " 元组 (Tuple)\n",
    "\n",
    " 2. 映射类型\n",
    " 存储了对象与对象之间的映射关系的数据结构类型，唯一的python映射类型为字典 (dictionary)\n",
    "\n",
    " 3. 集合类型\n",
    " 集合的数据结构，元素不能重复，没有次序关系（类似于数学中的集合），集合类型分为可变集合 (set)和不可变集合（frozenset）"
   ]
  },
  {
   "cell_type": "markdown",
   "metadata": {},
   "source": [
    "## 区分可变数据类型和不可变数据类型"
   ]
  },
  {
   "cell_type": "markdown",
   "metadata": {},
   "source": [
    " 1. 可变数据类型：\n",
    " 通过可变类型，可以直接对数据结构对象进行修改，即可以对数据结构对象进行元素的赋值修改、删除或增加，如：列表、字典、可变集合\n",
    "\n",
    " 2. 不可变数据类型\n",
    " 不可以直接对数据结构对象进行修改，即不可以对数据结构对象进行元素的赋值修改、删除或增加，例如：数字、字符串、元组、不可变集合等"
   ]
  },
  {
   "cell_type": "code",
   "execution_count": 1,
   "metadata": {},
   "outputs": [
    {
     "name": "stdout",
     "output_type": "stream",
     "text": [
      "[1, 2, ['three', 'four'], 5, True, 'six']\n"
     ]
    },
    {
     "data": {
      "text/plain": [
       "list"
      ]
     },
     "execution_count": 1,
     "metadata": {},
     "output_type": "execute_result"
    }
   ],
   "source": [
    "mylist1 = [1, 2, ['three','four'], 5, True, 'six']\n",
    "print(mylist1)\n",
    "type(mylist1)"
   ]
  },
  {
   "cell_type": "code",
   "execution_count": 3,
   "metadata": {},
   "outputs": [
    {
     "data": {
      "text/plain": [
       "[1, 2, ['three', 'four'], 5, True, 'six']"
      ]
     },
     "execution_count": 3,
     "metadata": {},
     "output_type": "execute_result"
    }
   ],
   "source": [
    "mylist1 = [1, 2, ['three','four'], 5, True, 'six']\n",
    "mylist1"
   ]
  },
  {
   "cell_type": "code",
   "execution_count": 4,
   "metadata": {},
   "outputs": [
    {
     "data": {
      "text/plain": [
       "list"
      ]
     },
     "execution_count": 4,
     "metadata": {},
     "output_type": "execute_result"
    }
   ],
   "source": [
    "type(mylist1)"
   ]
  },
  {
   "cell_type": "code",
   "execution_count": 6,
   "metadata": {},
   "outputs": [
    {
     "name": "stdout",
     "output_type": "stream",
     "text": [
      "[1, 2, ['three', 'four'], 5, True, 'six']\n"
     ]
    }
   ],
   "source": [
    "mylist2 = list((1, 2, ['three','four'], 5, True, 'six'))\n",
    "print(mylist2)"
   ]
  },
  {
   "cell_type": "code",
   "execution_count": 7,
   "metadata": {},
   "outputs": [
    {
     "data": {
      "text/plain": [
       "list"
      ]
     },
     "execution_count": 7,
     "metadata": {},
     "output_type": "execute_result"
    }
   ],
   "source": [
    "type(mylist2)"
   ]
  },
  {
   "cell_type": "code",
   "execution_count": 12,
   "metadata": {},
   "outputs": [
    {
     "data": {
      "text/plain": [
       "[1, 2, ['three', 'four']]"
      ]
     },
     "execution_count": 12,
     "metadata": {},
     "output_type": "execute_result"
    }
   ],
   "source": [
    "mylist1[:3]"
   ]
  },
  {
   "cell_type": "code",
   "execution_count": 5,
   "metadata": {},
   "outputs": [],
   "source": [
    "mylist3 = [ 'Monday', 'Tuesday', 'Wednesday',  'Friday']"
   ]
  },
  {
   "cell_type": "code",
   "execution_count": 7,
   "metadata": {},
   "outputs": [
    {
     "data": {
      "text/plain": [
       "['Monday', 'Tuesday', 'Wednesday', 'Friday', 'Saturday', 'Saturday']"
      ]
     },
     "execution_count": 7,
     "metadata": {},
     "output_type": "execute_result"
    }
   ],
   "source": [
    "###添加\n",
    "mylist3.append('Saturday')\n",
    "mylist3"
   ]
  },
  {
   "cell_type": "code",
   "execution_count": 18,
   "metadata": {},
   "outputs": [],
   "source": [
    "##删除\n",
    "mylist3\n",
    "del mylist3[2]\n",
    "mylist3"
   ]
  },
  {
   "cell_type": "code",
   "execution_count": 20,
   "metadata": {},
   "outputs": [],
   "source": [
    "## 修改\n",
    "mylist3[0] = 'Mon'"
   ]
  },
  {
   "cell_type": "code",
   "execution_count": 21,
   "metadata": {},
   "outputs": [
    {
     "data": {
      "text/plain": [
       "['Mon', 'Tuesday', 'Friday', 'Saturday']"
      ]
     },
     "execution_count": 21,
     "metadata": {},
     "output_type": "execute_result"
    }
   ],
   "source": [
    "mylist3"
   ]
  },
  {
   "cell_type": "markdown",
   "metadata": {},
   "source": [
    "# 2.2 创建一个列表(list)并进行增删改查操作"
   ]
  },
  {
   "cell_type": "markdown",
   "metadata": {},
   "source": [
    "## 2.2.1 创建列表"
   ]
  },
  {
   "cell_type": "code",
   "execution_count": 1,
   "metadata": {},
   "outputs": [
    {
     "name": "stdout",
     "output_type": "stream",
     "text": [
      "[1, 2, 4]\n",
      "[1, 2.0, ['three', 'four', 5], 6.5, True]\n",
      "[]\n",
      "[1, 2.0, ['three', 'four', 5], 6.5, True]\n",
      "<class 'list'>\n"
     ]
    },
    {
     "data": {
      "text/plain": [
       "['h', 'e', 'l', 'l', 'o', ' ', 'w', 'o', 'r', 'l', 'd', '!']"
      ]
     },
     "execution_count": 1,
     "metadata": {},
     "output_type": "execute_result"
    }
   ],
   "source": [
    "#使用方括号创建\n",
    "mylist = [1, 2, 4]\n",
    "print(mylist)\n",
    "\n",
    "mylist1=[1,2.0,['three','four',5],6.5,True]            # 创建包含混合数据类型的嵌套列表\n",
    "print(mylist1)                                                # 查看列表内容\n",
    "empty_list=[]                                          # 创建空列表\n",
    "print(empty_list)\n",
    "\n",
    "#使用list函数创建列表,  list函数把一个数据结构对象转换为列表类型\n",
    "mylist1=list((1,2.0,['three','four',5],6.5,True))     # 向list( )函数传入一个元组对象\n",
    "print( mylist1 )\n",
    "print(type(mylist1))                                          # 查看对象类型\n",
    "empty_list=list()                                      # 创建空列表\n",
    "empty_list\n",
    "mylist2=list(['one','two','three'])                    # 向list( )函数传入一个列表对象\n",
    "mylist2\n",
    "\n",
    "## 字符串传入list函数\n",
    "list('hello world!')"
   ]
  },
  {
   "cell_type": "markdown",
   "metadata": {},
   "source": [
    "## 2.2.2 列表的基础操作"
   ]
  },
  {
   "cell_type": "code",
   "execution_count": 2,
   "metadata": {},
   "outputs": [
    {
     "data": {
      "text/plain": [
       "list"
      ]
     },
     "execution_count": 2,
     "metadata": {},
     "output_type": "execute_result"
    }
   ],
   "source": [
    "type(mylist)"
   ]
  },
  {
   "cell_type": "markdown",
   "metadata": {},
   "source": [
    " 列表索引：列表元素的提取方法和字符串类似，索引从0开始，以1为步长递增。第一个元素为0， 第二个元素为1，最右边元素的索引为-1，向左为-2， -3.\n",
    " \n",
    " "
   ]
  },
  {
   "cell_type": "code",
   "execution_count": 18,
   "metadata": {},
   "outputs": [
    {
     "name": "stdout",
     "output_type": "stream",
     "text": [
      "Monday\n"
     ]
    },
    {
     "ename": "IndexError",
     "evalue": "list index out of range",
     "output_type": "error",
     "traceback": [
      "\u001b[0;31m---------------------------------------------------------------------------\u001b[0m",
      "\u001b[0;31mIndexError\u001b[0m                                Traceback (most recent call last)",
      "\u001b[0;32m<ipython-input-18-3ed2bd0286f6>\u001b[0m in \u001b[0;36m<module>\u001b[0;34m()\u001b[0m\n\u001b[1;32m      6\u001b[0m \u001b[1;33m\u001b[0m\u001b[0m\n\u001b[1;32m      7\u001b[0m \u001b[1;31m#列表索引错误示例\u001b[0m\u001b[1;33m\u001b[0m\u001b[1;33m\u001b[0m\u001b[0m\n\u001b[0;32m----> 8\u001b[0;31m \u001b[0mmylist3\u001b[0m\u001b[1;33m[\u001b[0m\u001b[1;36m7\u001b[0m\u001b[1;33m]\u001b[0m                                             \u001b[1;31m# 传入索引大于最后一个元素的正索引\u001b[0m\u001b[1;33m\u001b[0m\u001b[0m\n\u001b[0m\u001b[1;32m      9\u001b[0m \u001b[0mmylist3\u001b[0m\u001b[1;33m[\u001b[0m\u001b[1;33m-\u001b[0m\u001b[1;36m10\u001b[0m\u001b[1;33m]\u001b[0m                                           \u001b[1;31m# 传入索引小于第一个元素的负索引\u001b[0m\u001b[1;33m\u001b[0m\u001b[0m\n",
      "\u001b[0;31mIndexError\u001b[0m: list index out of range"
     ]
    }
   ],
   "source": [
    "## 列表索引访问提取\n",
    "mylist3=['Sunday','Monday','Tuesday',\n",
    "         'Wednesday','Thursday','Friday']\n",
    "print(mylist3[1])                              # 提取列表中第2个元素\n",
    "mylist3[-3]                                    # 提取列表中倒数第3个元素\n",
    "\n",
    "#列表索引错误示例\n",
    "mylist3[7]                                             # 传入索引大于最后一个元素的正索引\n",
    "mylist3[-10]                                           # 传入索引小于第一个元素的负索引"
   ]
  },
  {
   "cell_type": "markdown",
   "metadata": {},
   "source": [
    "### 列表的切片操作提取"
   ]
  },
  {
   "cell_type": "code",
   "execution_count": 3,
   "metadata": {},
   "outputs": [
    {
     "name": "stdout",
     "output_type": "stream",
     "text": [
      "[30, 40, 50, 60, 70]\n",
      "[20, 40, 60, 80]\n",
      "[90, 70, 50]\n"
     ]
    },
    {
     "ename": "ValueError",
     "evalue": "slice step cannot be zero",
     "output_type": "error",
     "traceback": [
      "\u001b[0;31m---------------------------------------------------------------------------\u001b[0m",
      "\u001b[0;31mValueError\u001b[0m                                Traceback (most recent call last)",
      "\u001b[0;32m<ipython-input-3-c8e74c743142>\u001b[0m in \u001b[0;36m<module>\u001b[0;34m()\u001b[0m\n\u001b[1;32m      5\u001b[0m \u001b[1;31m# 步长为负数时的切片操作\u001b[0m\u001b[1;33m\u001b[0m\u001b[1;33m\u001b[0m\u001b[0m\n\u001b[1;32m      6\u001b[0m \u001b[0mprint\u001b[0m\u001b[1;33m(\u001b[0m\u001b[0mmylist4\u001b[0m\u001b[1;33m[\u001b[0m\u001b[1;33m-\u001b[0m\u001b[1;36m2\u001b[0m\u001b[1;33m:\u001b[0m\u001b[1;33m-\u001b[0m\u001b[1;36m8\u001b[0m\u001b[1;33m:\u001b[0m\u001b[1;33m-\u001b[0m\u001b[1;36m2\u001b[0m\u001b[1;33m]\u001b[0m\u001b[1;33m)\u001b[0m                                      \u001b[1;31m# 提取从倒数第2个元素到倒数第8个元素前的所有元素，步长为2\u001b[0m\u001b[1;33m\u001b[0m\u001b[0m\n\u001b[0;32m----> 7\u001b[0;31m \u001b[0mmylist4\u001b[0m\u001b[1;33m[\u001b[0m\u001b[1;36m1\u001b[0m\u001b[1;33m:\u001b[0m\u001b[1;36m4\u001b[0m\u001b[1;33m:\u001b[0m\u001b[1;36m0\u001b[0m\u001b[1;33m]\u001b[0m                                         \u001b[1;31m# 步长为0时会报错\u001b[0m\u001b[1;33m\u001b[0m\u001b[0m\n\u001b[0m",
      "\u001b[0;31mValueError\u001b[0m: slice step cannot be zero"
     ]
    }
   ],
   "source": [
    "\n",
    "mylist3=['Sunday','Monday','Tuesday',\n",
    "         'Wednesday','Thursday','Friday']\n",
    "print(mylist3[1])                              # 提取列表中第2个元素\n",
    "mylist3[-3]   \n",
    "\n",
    "\n",
    "# 步长为正数时的切片操作\n",
    "mylist4=[10,20,30,40,50,60,70,80,90,100]\n",
    "print(mylist4[2:7])                                           # 提取从第3个元素到第8个元素前的所有元素\n",
    "print(mylist4[1:9:2])                                         # 提取从第2个元素到第10个元素前的所有元素，步长为2\n",
    "# 步长为负数时的切片操作\n",
    "print(mylist4[-2:-8:-2])                                      # 提取从倒数第2个元素到倒数第8个元素前的所有元素，步长为2\n",
    "mylist4[1:4:0]                                         # 步长为0时会报错"
   ]
  },
  {
   "cell_type": "code",
   "execution_count": 6,
   "metadata": {},
   "outputs": [
    {
     "name": "stdout",
     "output_type": "stream",
     "text": [
      "[100, 80, 60]\n",
      "[70, 80, 90, 100]\n"
     ]
    },
    {
     "data": {
      "text/plain": [
       "[100, 90, 80, 70, 60, 50, 40, 30, 20, 10]"
      ]
     },
     "execution_count": 6,
     "metadata": {},
     "output_type": "execute_result"
    }
   ],
   "source": [
    "# 省略起始索引\n",
    "print( mylist4[:-7:-2] )                                        # 提取从结尾向左到倒数第7个元素前的所有元素，步长为2\n",
    "print(mylist4[6:])                                            # 提取从第7个元素到列表右端最后一个元素之间的所有元素\n",
    "mylist4[::-2]                                          # 提取从右端开始到左端之间的全体元素，步长为2\n",
    "mylist4[::-1]                                          # 提取从右端开始到左端之间的全体元素，步长为1，即列表反转"
   ]
  },
  {
   "cell_type": "code",
   "execution_count": 7,
   "metadata": {},
   "outputs": [
    {
     "data": {
      "text/plain": [
       "[]"
      ]
     },
     "execution_count": 7,
     "metadata": {},
     "output_type": "execute_result"
    }
   ],
   "source": [
    "# 传入索引超出列表索引范围\n",
    "mylist4[3:100:2]                                       # 提取从第4个元素到右端之间的全体元素，步长为2\n",
    "mylist4[-5:-20:-1]                                     # 提取从倒数第5个元素到左端之间的全体元素\n",
    "# 起始索引无法达到终止索引\n",
    "mylist4[6:2]            # 提取从第7个元素向右到第3个元素之间的所有元素"
   ]
  },
  {
   "cell_type": "markdown",
   "metadata": {},
   "source": [
    "### 掌握列表常用函数和方法\n",
    "#### 增添、删除、修改和查询"
   ]
  },
  {
   "cell_type": "markdown",
   "metadata": {},
   "source": [
    " 增加列表元素： \n",
    "   主要有append、extend和insert向列表对象中增添。"
   ]
  },
  {
   "cell_type": "code",
   "execution_count": 8,
   "metadata": {},
   "outputs": [
    {
     "data": {
      "text/plain": [
       "['January', 'February', 'March', 'April', 'May', 'June', 'July']"
      ]
     },
     "execution_count": 8,
     "metadata": {},
     "output_type": "execute_result"
    }
   ],
   "source": [
    "## append 一次追加一个元素\n",
    "month=['January','February','March','April','May','June']\n",
    "month.append('July')                                   # 使用append( )函数向列表尾部追加元素\n",
    "month                                                  # 查看列表内容"
   ]
  },
  {
   "cell_type": "code",
   "execution_count": 9,
   "metadata": {},
   "outputs": [
    {
     "name": "stdout",
     "output_type": "stream",
     "text": [
      "['January', 'February', 'March', 'April', 'May', 'June', 'July']\n",
      "['January', 'February', 'March', 'April', 'May', 'June', 'July', 'August', 'September', 'November', 'December']\n"
     ]
    },
    {
     "data": {
      "text/plain": [
       "['January',\n",
       " 'February',\n",
       " 'March',\n",
       " 'April',\n",
       " 'May',\n",
       " 'June',\n",
       " 'July',\n",
       " 'August',\n",
       " 'September',\n",
       " 'November',\n",
       " 'December']"
      ]
     },
     "execution_count": 9,
     "metadata": {},
     "output_type": "execute_result"
    }
   ],
   "source": [
    "## extend 可以将另一个列表添加到列表末尾\n",
    "month_copy= month.copy()                               # 创建一个列表对象month的副本，理由稍后解释\n",
    "print( month_copy )\n",
    "others=['August','September','November','December']\n",
    "month.extend(others)                                   # 使用extend( )函数将两个列表进行合并\n",
    "print( month)\n",
    "month_copy+=others                                     # 对副本进行自增运算\n",
    "month_copy\n",
    "\n",
    "## insert 可以在固定位置向列表添加一个元素\n",
    "month.insert(9,'October')                              # 在列表第10个位置上插入元素\n",
    "month\n",
    "month.insert(20,'None')                                # 插入位置超出列表尾端\n",
    "month"
   ]
  },
  {
   "cell_type": "code",
   "execution_count": 10,
   "metadata": {},
   "outputs": [
    {
     "data": {
      "text/plain": [
       "['January',\n",
       " 'February',\n",
       " 'March',\n",
       " 'April',\n",
       " 'May',\n",
       " 'June',\n",
       " 'July',\n",
       " 'August',\n",
       " 'September',\n",
       " 'October',\n",
       " 'November',\n",
       " 'December',\n",
       " 'None']"
      ]
     },
     "execution_count": 10,
     "metadata": {},
     "output_type": "execute_result"
    }
   ],
   "source": [
    "## insert 可以在固定位置向列表添加一个元素\n",
    "month.insert(9,'October')                              # 在列表第10个位置上插入元素\n",
    "month\n",
    "month.insert(20,'None')                                # 插入位置超出列表尾端\n",
    "month"
   ]
  },
  {
   "cell_type": "code",
   "execution_count": null,
   "metadata": {
    "collapsed": true
   },
   "outputs": [],
   "source": []
  },
  {
   "cell_type": "markdown",
   "metadata": {},
   "source": [
    " 删除元素： \n",
    "   主要有del、pop和remove向列表对象中增添。"
   ]
  },
  {
   "cell_type": "code",
   "execution_count": 11,
   "metadata": {},
   "outputs": [
    {
     "data": {
      "text/plain": [
       "['January',\n",
       " 'February',\n",
       " 'March',\n",
       " 'April',\n",
       " 'May',\n",
       " 'June',\n",
       " 'July',\n",
       " 'August',\n",
       " 'September',\n",
       " 'October',\n",
       " 'November',\n",
       " 'December']"
      ]
     },
     "execution_count": 11,
     "metadata": {},
     "output_type": "execute_result"
    }
   ],
   "source": [
    "## del 删除列表元素\n",
    "month_copy=month.copy()                                # 创建一个列表对象month副本\n",
    "del month_copy[-1]                                     # 删除副本中最后一个元素\n",
    "month_copy"
   ]
  },
  {
   "cell_type": "code",
   "execution_count": null,
   "metadata": {
    "collapsed": true
   },
   "outputs": [],
   "source": []
  },
  {
   "cell_type": "code",
   "execution_count": 12,
   "metadata": {},
   "outputs": [
    {
     "data": {
      "text/plain": [
       "['January',\n",
       " 'February',\n",
       " 'March',\n",
       " 'April',\n",
       " 'May',\n",
       " 'June',\n",
       " 'July',\n",
       " 'August',\n",
       " 'September',\n",
       " 'October',\n",
       " 'November',\n",
       " 'December']"
      ]
     },
     "execution_count": 12,
     "metadata": {},
     "output_type": "execute_result"
    }
   ],
   "source": [
    "## remove 语句删除列表元素\n",
    "month.remove('None')                                   # 删除列表中的元素’None’\n",
    "month"
   ]
  },
  {
   "cell_type": "code",
   "execution_count": null,
   "metadata": {
    "collapsed": true
   },
   "outputs": [],
   "source": []
  },
  {
   "cell_type": "markdown",
   "metadata": {},
   "source": [
    " 修改列表元素： \n",
    "   列表是可变的，最简单的方法是提取该元素进行赋值操作"
   ]
  },
  {
   "cell_type": "code",
   "execution_count": 12,
   "metadata": {},
   "outputs": [
    {
     "data": {
      "text/plain": [
       "[1, 2, 3, 4, 5]"
      ]
     },
     "execution_count": 12,
     "metadata": {},
     "output_type": "execute_result"
    }
   ],
   "source": [
    "### 列表是可变的，所以提取元素再修改\n",
    "month[0] = 'Jan'                                         # 将第一个元素改为缩写形式\n",
    "month\n",
    "\n",
    "### 修改操作作用于对象 （对可变对象而言，不仅操作在本身，也会在可复制对象上）\n",
    "a = [1,2,3,4]                                            # 变量名a指向列表对象[1,2,3,4]\n",
    "b = a                                                    # 变量名b也指向列表对象[1,2,3,4]\n",
    "a.append(5)                                            # 列表尾端追加元素5\n",
    "a\n",
    "b                                                      # 通过变量名b查看列表"
   ]
  },
  {
   "cell_type": "markdown",
   "metadata": {},
   "source": [
    " 查询列表元素： \n",
    "   查询元素在列表中的位置，以及用in查询元素是否在列表中"
   ]
  },
  {
   "cell_type": "code",
   "execution_count": 13,
   "metadata": {},
   "outputs": [
    {
     "name": "stdout",
     "output_type": "stream",
     "text": [
      "3\n"
     ]
    },
    {
     "data": {
      "text/plain": [
       "True"
      ]
     },
     "execution_count": 13,
     "metadata": {},
     "output_type": "execute_result"
    }
   ],
   "source": [
    "# index( )方法查询元素位置\n",
    "letter=['A','B','A','C','B','B','C','A']\n",
    "print( letter.index('C') )                                     # 查询元素’C’在列表中第一次出现的位置\n",
    "\n",
    "# 使用in判断列表是否包含元素\n",
    "'A' in letter\n"
   ]
  },
  {
   "cell_type": "markdown",
   "metadata": {},
   "source": [
    " 其他列表操作"
   ]
  },
  {
   "cell_type": "code",
   "execution_count": 13,
   "metadata": {},
   "outputs": [
    {
     "name": "stdout",
     "output_type": "stream",
     "text": [
      "3\n",
      "['winter', 'autumn', 'summer', 'spring']\n"
     ]
    },
    {
     "data": {
      "text/plain": [
       "[10, 20, 30, 40, 10, 20, 30, 40, 10, 20, 30, 40]"
      ]
     },
     "execution_count": 13,
     "metadata": {},
     "output_type": "execute_result"
    }
   ],
   "source": [
    "# 使用count( )函数进行元素计数\n",
    "letter=['B','A','C','D','A','C','D','A']\n",
    "print( letter.count('A'))                                      # 获取元素’A’在列表中出现的次数\n",
    "# 使用sort( )函数和sorted( )函数对列表进行排序\n",
    "sorted(letter)                                         # 使用sorted( )函数对列表进行排序，不改变列表\n",
    "letter\n",
    "letter.sort()                                          # 使用列表方法sort( )进行排序，改变列表内容\n",
    "letter\n",
    "letter.sort(reverse=True)                              # 对列表进行倒序排序\n",
    "letter\n",
    "# 使用reverse( )函数反转列表\n",
    "season=['spring','summer','autumn','winter']\n",
    "season.reverse()                                        # 反转列表\n",
    "print(season)\n",
    "\n",
    "# 使用函数len( )获取列表长度\n",
    "len(season)\n",
    "# 使用列表加法合并两个列表\n",
    "[1,2,3]+[4,5,6]\n",
    "# 使用列表乘法重复合并列表\n",
    "[10,20,30,40]*3\n"
   ]
  },
  {
   "cell_type": "code",
   "execution_count": null,
   "metadata": {
    "collapsed": true
   },
   "outputs": [],
   "source": []
  },
  {
   "cell_type": "markdown",
   "metadata": {},
   "source": [
    "# 2.3 元组 (Tuple)"
   ]
  },
  {
   "cell_type": "markdown",
   "metadata": {},
   "source": [
    "  ### 元组和列表很相似，都是有序元素的集合，并且可以包括任意类型元素。\n",
    "  \n",
    "  ### 元组是不可变的，一旦创建后，不能进行修改、增加、删除等操作。这对很多不希望某些处理过程修改对象内容，如敏感数据等，就不需要用到元组的不可变性."
   ]
  },
  {
   "cell_type": "markdown",
   "metadata": {},
   "source": [
    "## 2.3.1 创建元组"
   ]
  },
  {
   "cell_type": "code",
   "execution_count": 5,
   "metadata": {},
   "outputs": [
    {
     "name": "stdout",
     "output_type": "stream",
     "text": [
      "(1, 2.5, ('three', 'four'), [True, 5], False)\n",
      "(2, True, 'five', 3.5)\n"
     ]
    },
    {
     "data": {
      "text/plain": [
       "()"
      ]
     },
     "execution_count": 5,
     "metadata": {},
     "output_type": "execute_result"
    }
   ],
   "source": [
    "## 使用源括号（）创建\n",
    "my1 = (1,2.5,('three','four'),[True,5],False)            # 使用圆括号( )创建元组\n",
    "print( my1 )\n",
    "mytuple2 = tuple((2,True,'five',3.5))                                 # 省略圆括号\n",
    "print( mytuple2 )\n",
    "\n",
    "empty_tuple=()                                              # 创建空元组\n",
    "empty_tuple"
   ]
  },
  {
   "cell_type": "code",
   "execution_count": 6,
   "metadata": {},
   "outputs": [
    {
     "data": {
      "text/plain": [
       "tuple"
      ]
     },
     "execution_count": 6,
     "metadata": {},
     "output_type": "execute_result"
    }
   ],
   "source": [
    "type(mytuple2)"
   ]
  },
  {
   "cell_type": "code",
   "execution_count": 52,
   "metadata": {},
   "outputs": [
    {
     "name": "stdout",
     "output_type": "stream",
     "text": [
      "(1, 2.5, ('three', 'four'), [True, 5], False)\n"
     ]
    },
    {
     "data": {
      "text/plain": [
       "()"
      ]
     },
     "execution_count": 52,
     "metadata": {},
     "output_type": "execute_result"
    }
   ],
   "source": [
    "## 使用tuple函数构建\n",
    "### 将其他数据结构对象转换成元组类型\n",
    "mytuple1=tuple([1,2.5,('three','four'),[True,5],False])    # 使用函数tuple( )将列表转换为元组\n",
    "print( mytuple1 )\n",
    "mytuple2=tuple((2,True,'five',3.5))\n",
    "mytuple2\n",
    "empty_tuple=tuple()\n",
    "empty_tuple"
   ]
  },
  {
   "cell_type": "markdown",
   "metadata": {},
   "source": [
    "## 2.3.2 掌握元组常用函数和方法"
   ]
  },
  {
   "cell_type": "markdown",
   "metadata": {},
   "source": [
    "  元组元素提取"
   ]
  },
  {
   "cell_type": "code",
   "execution_count": 15,
   "metadata": {},
   "outputs": [
    {
     "name": "stdout",
     "output_type": "stream",
     "text": [
      "China\n"
     ]
    },
    {
     "ename": "IndexError",
     "evalue": "tuple index out of range",
     "output_type": "error",
     "traceback": [
      "\u001b[0;31m---------------------------------------------------------------------------\u001b[0m",
      "\u001b[0;31mIndexError\u001b[0m                                Traceback (most recent call last)",
      "\u001b[0;32m<ipython-input-15-bd042ca91a10>\u001b[0m in \u001b[0;36m<module>\u001b[0;34m()\u001b[0m\n\u001b[1;32m      2\u001b[0m \u001b[0mmytuple3\u001b[0m\u001b[1;33m=\u001b[0m\u001b[1;33m(\u001b[0m\u001b[1;34m'China'\u001b[0m\u001b[1;33m,\u001b[0m\u001b[1;34m'America'\u001b[0m\u001b[1;33m,\u001b[0m\u001b[1;34m'England'\u001b[0m\u001b[1;33m,\u001b[0m\u001b[1;34m'France'\u001b[0m\u001b[1;33m)\u001b[0m\u001b[1;33m\u001b[0m\u001b[0m\n\u001b[1;32m      3\u001b[0m \u001b[0mprint\u001b[0m\u001b[1;33m(\u001b[0m \u001b[0mmytuple3\u001b[0m\u001b[1;33m[\u001b[0m\u001b[1;36m0\u001b[0m\u001b[1;33m]\u001b[0m \u001b[1;33m)\u001b[0m                                                 \u001b[1;31m# 提取元组第1个元素\u001b[0m\u001b[1;33m\u001b[0m\u001b[0m\n\u001b[0;32m----> 4\u001b[0;31m \u001b[0mmytuple3\u001b[0m\u001b[1;33m[\u001b[0m\u001b[1;36m10\u001b[0m\u001b[1;33m]\u001b[0m                                                \u001b[1;31m# 传入索引超出元组索引范围\u001b[0m\u001b[1;33m\u001b[0m\u001b[0m\n\u001b[0m",
      "\u001b[0;31mIndexError\u001b[0m: tuple index out of range"
     ]
    }
   ],
   "source": [
    "## 元组元素提取\n",
    "mytuple3=('China','America','England','France')\n",
    "print( mytuple3[0] )                                                 # 提取元组第1个元素\n",
    "mytuple3[10]                                                # 传入索引超出元组索引范围"
   ]
  },
  {
   "cell_type": "code",
   "execution_count": 16,
   "metadata": {},
   "outputs": [
    {
     "data": {
      "text/plain": [
       "('America', 'England', 'France')"
      ]
     },
     "execution_count": 16,
     "metadata": {},
     "output_type": "execute_result"
    }
   ],
   "source": [
    "## 元组切片操作提取\n",
    "mytuple3[-2::-1]                                            # 提取元组倒数第２个元素到左端之间所有元素\n",
    "mytuple3[1:10]   "
   ]
  },
  {
   "cell_type": "markdown",
   "metadata": {},
   "source": [
    "  元组解包\n",
    "  \n",
    "  将元组中的各个元素赋值于多个不同变量的操作称为元组解包.\n",
    " "
   ]
  },
  {
   "cell_type": "code",
   "execution_count": 58,
   "metadata": {},
   "outputs": [
    {
     "data": {
      "text/plain": [
       "'England'"
      ]
     },
     "execution_count": 58,
     "metadata": {},
     "output_type": "execute_result"
    }
   ],
   "source": [
    "##解包\n",
    "A,B,C,D = mytuple3                                            # 将元组中各元素分别赋值给对应变量\n",
    "A\n",
    "C"
   ]
  },
  {
   "cell_type": "markdown",
   "metadata": {},
   "source": [
    "  元组常用方法和函数 "
   ]
  },
  {
   "cell_type": "code",
   "execution_count": 7,
   "metadata": {},
   "outputs": [
    {
     "name": "stdout",
     "output_type": "stream",
     "text": [
      "2\n",
      "['A', 'A', 'A', 'B', 'B', 'C', 'C', 'D']\n"
     ]
    },
    {
     "data": {
      "text/plain": [
       "(1, 2, 3, 4, 5, 6)"
      ]
     },
     "execution_count": 7,
     "metadata": {},
     "output_type": "execute_result"
    }
   ],
   "source": [
    "# 使用count( )函数进行元素计数\n",
    "mytuple4=('A','D','C','A','C','B','B','A')\n",
    "mytuple4.count('B')\n",
    "# 使用index( )函数获取元素在元组中第一次出现的位置索引\n",
    "print( mytuple4.index('C') )\n",
    "# 使用sorted( )对元组元素进行排序\n",
    "print( sorted(mytuple4) )\n",
    "# 使用len( )函数获取元组长度\n",
    "len(mytuple4)\n",
    "# 使用元组加法合并两元组\n",
    "(1,2,3)+(4,5,6)\n",
    "# 使用元组乘法重复合并元组\n",
    "(10,20,30,40)*3\n",
    "(1,2,3)+(4,5,6)\n"
   ]
  },
  {
   "cell_type": "code",
   "execution_count": 8,
   "metadata": {},
   "outputs": [
    {
     "data": {
      "text/plain": [
       "8"
      ]
     },
     "execution_count": 8,
     "metadata": {},
     "output_type": "execute_result"
    }
   ],
   "source": [
    "len(mytuple4)\n"
   ]
  },
  {
   "cell_type": "code",
   "execution_count": null,
   "metadata": {
    "collapsed": true
   },
   "outputs": [],
   "source": []
  },
  {
   "cell_type": "markdown",
   "metadata": {},
   "source": [
    "## 2.3.3 创建字典 (dict) 并进行增删改查操作"
   ]
  },
  {
   "cell_type": "markdown",
   "metadata": {},
   "source": [
    "  ### 了解字典的概念与特性\n",
    "  \n",
    "  ### 各元素之间是对应的，如姓名+电话号码，季节+月份等\n",
    "  \n",
    "  ### 字典中的元素是键与值之间的关系，键--值，即key--value,而且是可以重复的。\n",
    "  \n",
    "  ### 注意：字典中的键必须使用不可变数据类型的对象，例如：数字、字符串、元组等，并且键不允许重复；而值可以是任意类型的，且在字典中可以重复"
   ]
  },
  {
   "cell_type": "code",
   "execution_count": 9,
   "metadata": {},
   "outputs": [],
   "source": [
    "mydict1 = {'Math':90, 'Eng':80, 'Chinese':70 }"
   ]
  },
  {
   "cell_type": "code",
   "execution_count": 10,
   "metadata": {},
   "outputs": [
    {
     "data": {
      "text/plain": [
       "dict"
      ]
     },
     "execution_count": 10,
     "metadata": {},
     "output_type": "execute_result"
    }
   ],
   "source": [
    "type(mydict1)"
   ]
  },
  {
   "cell_type": "code",
   "execution_count": 9,
   "metadata": {},
   "outputs": [
    {
     "data": {
      "text/plain": [
       "{'Math': 90, 'Eng': 80, 'Chinese': 70}"
      ]
     },
     "execution_count": 9,
     "metadata": {},
     "output_type": "execute_result"
    }
   ],
   "source": [
    "mydict2 = dict([('Math',90), ('Eng',80), ('Chinese',70)] )\n",
    "mydict2"
   ]
  },
  {
   "cell_type": "code",
   "execution_count": 12,
   "metadata": {},
   "outputs": [
    {
     "data": {
      "text/plain": [
       "{'Math': 90, 'Eng': 80, 'Chinese': 70, 'physics': 60}"
      ]
     },
     "execution_count": 12,
     "metadata": {},
     "output_type": "execute_result"
    }
   ],
   "source": [
    "mydict2['physics'] = 60\n",
    "mydict2"
   ]
  },
  {
   "cell_type": "markdown",
   "metadata": {},
   "source": [
    "  创建字典"
   ]
  },
  {
   "cell_type": "code",
   "execution_count": 20,
   "metadata": {},
   "outputs": [
    {
     "name": "stdout",
     "output_type": "stream",
     "text": [
      "{'mydict': {}, 'myfloat': 3.1415, 'mytuple': (1, 2, 3), 'myint': 100, 'mystr': 'name'}\n"
     ]
    },
    {
     "data": {
      "text/plain": [
       "{}"
      ]
     },
     "execution_count": 20,
     "metadata": {},
     "output_type": "execute_result"
    }
   ],
   "source": [
    "### 创建字典方式1: 使用花括号{}创建\n",
    "mydict1={'myint': 1, 'myfloat': 3.1415, 'mystr': 'name',               # 使用花括号创建字典\n",
    "         'myint': 100, 'mytuple': (1,2,3), 'mydict': {}}               # 重复键采用最后出现的对应值\n",
    "print( mydict1 )\n",
    "\n",
    "empty_dict={}                                                     # 创建空字典\n",
    "empty_dict"
   ]
  },
  {
   "cell_type": "code",
   "execution_count": 22,
   "metadata": {},
   "outputs": [
    {
     "name": "stdout",
     "output_type": "stream",
     "text": [
      "{'mydict': {}, 'myfloat': 3.1415, 'mytuple': (1, 2, 3), 'myint': 100, 'mystr': 'name'}\n",
      "{'two': 2, 'zero': 0, 'one': 1}\n"
     ]
    },
    {
     "data": {
      "text/plain": [
       "{}"
      ]
     },
     "execution_count": 22,
     "metadata": {},
     "output_type": "execute_result"
    }
   ],
   "source": [
    "### 创建字典方式2: 使用dict函数创建\n",
    "mydict1=dict([('myint',1),('myfloat',3.1415),('mystr','name'),    # 使用dict( )转换列表对象为字典\n",
    "              ('myint',100),('mytuple',(1,2,3)),('mydict',{})])\n",
    "print( mydict1 )\n",
    "\n",
    "mydict2 = dict(zero=0,one=1,two=2)  ### 一般使用dict()创建dict方式\n",
    "print( mydict2 )\n",
    "empty_dict = dict()\n",
    "empty_dict\n",
    "\n"
   ]
  },
  {
   "cell_type": "markdown",
   "metadata": {},
   "source": [
    "  提取字典元素"
   ]
  },
  {
   "cell_type": "code",
   "execution_count": 24,
   "metadata": {},
   "outputs": [
    {
     "name": "stdout",
     "output_type": "stream",
     "text": [
      "(9, 10, 11)\n",
      "(3, 4, 5)\n"
     ]
    },
    {
     "ename": "KeyError",
     "evalue": "'Spring'",
     "output_type": "error",
     "traceback": [
      "\u001b[0;31m---------------------------------------------------------------------------\u001b[0m",
      "\u001b[0;31mKeyError\u001b[0m                                  Traceback (most recent call last)",
      "\u001b[0;32m<ipython-input-24-4768de848d33>\u001b[0m in \u001b[0;36m<module>\u001b[0;34m()\u001b[0m\n\u001b[1;32m      3\u001b[0m \u001b[1;33m\u001b[0m\u001b[0m\n\u001b[1;32m      4\u001b[0m \u001b[0mprint\u001b[0m\u001b[1;33m(\u001b[0m \u001b[0mmydict3\u001b[0m\u001b[1;33m[\u001b[0m\u001b[1;34m'spring'\u001b[0m\u001b[1;33m]\u001b[0m \u001b[1;33m)\u001b[0m\u001b[1;33m\u001b[0m\u001b[0m\n\u001b[0;32m----> 5\u001b[0;31m \u001b[0mmydict3\u001b[0m\u001b[1;33m[\u001b[0m\u001b[1;34m'Spring'\u001b[0m\u001b[1;33m]\u001b[0m                                                 \u001b[1;31m# 提取字典中不存在的键’Spring’所对应的值\u001b[0m\u001b[1;33m\u001b[0m\u001b[0m\n\u001b[0m",
      "\u001b[0;31mKeyError\u001b[0m: 'Spring'"
     ]
    }
   ],
   "source": [
    "### 主要通过 字典【键】 的方式\n",
    "mydict3 = {'spring':(3,4,5),'summer':(6,7,8),'autumn':(9,10,11),'winter':(12,1,2)}\n",
    "print( mydict3['autumn'] )                                                 # 提取键为’autumn’的对应值\n",
    "\n",
    "print( mydict3['spring'] )                                            \n",
    "mydict3['Spring']                                                 # 提取字典中不存在的键’Spring’所对应的值"
   ]
  },
  {
   "cell_type": "code",
   "execution_count": 26,
   "metadata": {},
   "outputs": [
    {
     "name": "stdout",
     "output_type": "stream",
     "text": [
      "(6, 7, 8)\n",
      "None\n"
     ]
    }
   ],
   "source": [
    "### 避免上述出错，有另两种方法\n",
    "## 1. 用in语句测试\n",
    "'Spring' in mydict3                                               # 使用in检查传入键是否存在\n",
    "\n",
    "## 2. 用get语句测试\n",
    "print(mydict3.get('summer'))                                             # 传入存在的键并返回对应值\n",
    "mydict3.get('Spring')                                             # 仅传入不存在的键，不显示任何东西\n",
    "print(mydict3.get('Spring'))                                      # 打印函数返回的结果\n"
   ]
  },
  {
   "cell_type": "markdown",
   "metadata": {},
   "source": [
    "字典常用函数和方法"
   ]
  },
  {
   "cell_type": "code",
   "execution_count": 27,
   "metadata": {},
   "outputs": [
    {
     "data": {
      "text/plain": [
       "{'America': 'Washington',\n",
       " 'Britain': 'London',\n",
       " 'Canada': 'Ottawa',\n",
       " 'China': 'Beijing',\n",
       " 'French': 'Paris',\n",
       " 'Russian': 'Moscow'}"
      ]
     },
     "execution_count": 27,
     "metadata": {},
     "output_type": "execute_result"
    }
   ],
   "source": [
    "### 1. 增添字典元素\n",
    "country = dict(China='Beijing',                                     # 使用dict( )函数创建字典\n",
    "  America='Washington',\n",
    "  Britain='London',\n",
    "  French='Paris',\n",
    "  Canada='Ottawa')\n",
    "country_copy=country.copy()                                       # 创建一个副本字典对象\n",
    "country_copy['Russian']='Moscow'                                  # 增添元素\n",
    "country_copy"
   ]
  },
  {
   "cell_type": "code",
   "execution_count": 28,
   "metadata": {},
   "outputs": [
    {
     "data": {
      "text/plain": [
       "{'America': 'Washington',\n",
       " 'Britain': 'London',\n",
       " 'China': 'Beijing',\n",
       " 'French': 'Paris'}"
      ]
     },
     "execution_count": 28,
     "metadata": {},
     "output_type": "execute_result"
    }
   ],
   "source": [
    "### 2. 删除字典元素\n",
    "country_copy=country.copy()\n",
    "del country_copy['Canada']                                       # 使用del删除副本字典中的元素\n",
    "country_copy"
   ]
  },
  {
   "cell_type": "code",
   "execution_count": 30,
   "metadata": {},
   "outputs": [
    {
     "data": {
      "text/plain": [
       "{'America': 'Washington',\n",
       " 'Britain': 'London',\n",
       " 'Canada': 'Ottawa',\n",
       " 'China': 'Beijing',\n",
       " 'French': 'Paris',\n",
       " 'Japan': 'Tokyo'}"
      ]
     },
     "execution_count": 30,
     "metadata": {},
     "output_type": "execute_result"
    }
   ],
   "source": [
    "### 3. 修改字典元素\n",
    "country['Japan'] = 'Tokyo'                                         # 直接将新值赋值给对应元素\n",
    "country"
   ]
  },
  {
   "cell_type": "code",
   "execution_count": 32,
   "metadata": {},
   "outputs": [
    {
     "name": "stdout",
     "output_type": "stream",
     "text": [
      "['Ottawa', 'Beijing', 'Washington', 'London', 'Paris', 'Tokyo']\n",
      "dict_items([('Canada', 'Ottawa'), ('China', 'Beijing'), ('America', 'Washington'), ('Britain', 'London'), ('French', 'Paris'), ('Japan', 'Tokyo')])\n",
      "True\n"
     ]
    },
    {
     "data": {
      "text/plain": [
       "[('Canada', 'Ottawa'),\n",
       " ('China', 'Beijing'),\n",
       " ('America', 'Washington'),\n",
       " ('Britain', 'London'),\n",
       " ('French', 'Paris'),\n",
       " ('Japan', 'Tokyo')]"
      ]
     },
     "execution_count": 32,
     "metadata": {},
     "output_type": "execute_result"
    }
   ],
   "source": [
    "### 4. 查询和获取字典元素信息\n",
    "\n",
    "# 判断键是否存在于字典当中\n",
    "'Canada' in country\n",
    "# 获取所有键\n",
    "all_keys = country.keys()                                          # 使用函数keys( )得到全部键\n",
    "all_keys\n",
    "# 判断值是否存在于字典当中\n",
    "all_values=country.values()                                      # 使用函数values( )得到全部值\n",
    "all_values\n",
    "\n",
    "'Beijing' in all_values                                          # 判断字典是否包含值\n",
    "print( list(all_values) )                                                 # 将值的迭代形式转换为列表\n",
    "# 判断键值对是否存在于字典当中\n",
    "all_items=country.items()                                        # 使用函数items( )得到全部键值对\n",
    "print( all_items )\n",
    "\n",
    "print( ('America','Washington') in all_items )                            # 判断字典是否包含键值对\n",
    "list(all_items)\n"
   ]
  },
  {
   "cell_type": "code",
   "execution_count": null,
   "metadata": {
    "collapsed": true
   },
   "outputs": [],
   "source": []
  }
 ],
 "metadata": {
  "anaconda-cloud": {},
  "kernelspec": {
   "display_name": "Python 3",
   "language": "python",
   "name": "python3"
  },
  "language_info": {
   "codemirror_mode": {
    "name": "ipython",
    "version": 3
   },
   "file_extension": ".py",
   "mimetype": "text/x-python",
   "name": "python",
   "nbconvert_exporter": "python",
   "pygments_lexer": "ipython3",
   "version": "3.6.5"
  }
 },
 "nbformat": 4,
 "nbformat_minor": 2
}
