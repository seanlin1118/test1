{
 "cells": [
  {
   "cell_type": "markdown",
   "metadata": {},
   "source": [
    "# Python程序流程控制语句"
   ]
  },
  {
   "cell_type": "markdown",
   "metadata": {},
   "source": [
    "# 3.1 掌握if语句的基本结构"
   ]
  },
  {
   "cell_type": "markdown",
   "metadata": {},
   "source": [
    "  #### 掌握if语句的基本结构\n",
    "  \n",
    "  #### if 语句每个后面都要使用冒号表示接下来满足条件时所要执行的语句块, 使用缩进来划分语句块，相同缩进的语句组成一个语句块。\n",
    "  \n",
    "  if 布尔表达式1:\n",
    "  \n",
    "    分支"
   ]
  },
  {
   "cell_type": "code",
   "execution_count": null,
   "metadata": {},
   "outputs": [],
   "source": []
  },
  {
   "cell_type": "code",
   "execution_count": 1,
   "metadata": {},
   "outputs": [
    {
     "name": "stdout",
     "output_type": "stream",
     "text": [
      "本次考试，成绩等级为：A\n"
     ]
    }
   ],
   "source": [
    "### if 语句示例\n",
    "score = 80\n",
    "if score >= 90 & score <= 100:\n",
    "    print('本次考试，成绩等级为：A')"
   ]
  },
  {
   "cell_type": "code",
   "execution_count": 8,
   "metadata": {},
   "outputs": [
    {
     "name": "stdout",
     "output_type": "stream",
     "text": [
      "1892.484211028349\n"
     ]
    }
   ],
   "source": [
    "sum = 0\n",
    "for i in range(201):\n",
    "    sum = sum + i**(1/2)\n",
    "print(sum)"
   ]
  },
  {
   "cell_type": "code",
   "execution_count": 24,
   "metadata": {},
   "outputs": [
    {
     "name": "stdout",
     "output_type": "stream",
     "text": [
      "671.4629471031477\n"
     ]
    }
   ],
   "source": [
    "import math\n",
    "sum = 0\n",
    "for i in range(101):\n",
    "    sum = sum + math.sqrt(i)\n",
    "print(sum)"
   ]
  },
  {
   "cell_type": "code",
   "execution_count": 27,
   "metadata": {},
   "outputs": [
    {
     "data": {
      "text/plain": [
       "0"
      ]
     },
     "execution_count": 27,
     "metadata": {},
     "output_type": "execute_result"
    }
   ],
   "source": [
    "70%7"
   ]
  },
  {
   "cell_type": "code",
   "execution_count": 26,
   "metadata": {},
   "outputs": [
    {
     "data": {
      "text/plain": [
       "5.0"
      ]
     },
     "execution_count": 26,
     "metadata": {},
     "output_type": "execute_result"
    }
   ],
   "source": [
    "10/2"
   ]
  },
  {
   "cell_type": "code",
   "execution_count": 29,
   "metadata": {},
   "outputs": [
    {
     "name": "stdout",
     "output_type": "stream",
     "text": [
      "3879\n"
     ]
    }
   ],
   "source": [
    "# 从1加到100，所以尾数为7调过\n",
    "sum2 = 0\n",
    "for i in range(1,101):\n",
    "    if (i % 7 != 0) & (i%10 != 7):\n",
    "        sum2 = sum2 + i;\n",
    "\n",
    "print(sum2);\n"
   ]
  },
  {
   "cell_type": "code",
   "execution_count": null,
   "metadata": {},
   "outputs": [],
   "source": []
  },
  {
   "cell_type": "code",
   "execution_count": null,
   "metadata": {},
   "outputs": [],
   "source": []
  },
  {
   "cell_type": "code",
   "execution_count": 7,
   "metadata": {},
   "outputs": [],
   "source": [
    "import math\n",
    "sum = 0\n",
    "for i in range(201):\n",
    "    sum = sum+math.sqrt(i)"
   ]
  },
  {
   "cell_type": "code",
   "execution_count": 4,
   "metadata": {},
   "outputs": [
    {
     "name": "stdout",
     "output_type": "stream",
     "text": [
      "20100\n"
     ]
    }
   ],
   "source": [
    "sum = 0\n",
    "for i in range(201):\n",
    "    sum = sum+i\n",
    "print(sum)"
   ]
  },
  {
   "cell_type": "code",
   "execution_count": 3,
   "metadata": {},
   "outputs": [
    {
     "name": "stdout",
     "output_type": "stream",
     "text": [
      "<built-in function sum> 1892.484211028349\n"
     ]
    }
   ],
   "source": [
    "import math\n",
    "sum1 = 0\n",
    "for i in range(201):\n",
    "    sum1 = sum1+i**(1/2)\n",
    "    \n",
    "print(sum, sum1)"
   ]
  },
  {
   "cell_type": "code",
   "execution_count": 6,
   "metadata": {},
   "outputs": [
    {
     "name": "stdout",
     "output_type": "stream",
     "text": [
      "本次考试C\n"
     ]
    }
   ],
   "source": [
    "score = 70\n",
    "if score>=90:\n",
    "    print('本次考试A')\n",
    "elif score >= 80:\n",
    "    print('本次考试B')\n",
    "else:\n",
    "    print('本次考试C')\n"
   ]
  },
  {
   "cell_type": "code",
   "execution_count": 4,
   "metadata": {},
   "outputs": [
    {
     "name": "stdout",
     "output_type": "stream",
     "text": [
      "671.4629471031477\n",
      "100\n"
     ]
    }
   ],
   "source": [
    "import math\n",
    "sum = 0\n",
    "for i in range(1,101):\n",
    "#    print(i);\n",
    "    sum = sum + math.sqrt(i)\n",
    "\n",
    "print(sum)\n",
    "print(i)"
   ]
  },
  {
   "cell_type": "code",
   "execution_count": 9,
   "metadata": {},
   "outputs": [
    {
     "name": "stdout",
     "output_type": "stream",
     "text": [
      "3879\n"
     ]
    }
   ],
   "source": [
    "# 从1加到100，所以尾数为7调过\n",
    "sum2 = 0\n",
    "for i in range(1,101):\n",
    "    if (i % 7 != 0) and (i % 10 != 7):\n",
    "        sum2 = sum2 + i;\n",
    "\n",
    "print(sum2);\n"
   ]
  },
  {
   "cell_type": "markdown",
   "metadata": {},
   "source": [
    " ### 实现多路分支 (else, elif)\n",
    "  \n",
    "  \n",
    "   if 布尔表达式1:\n",
    "  \n",
    "     分支一\n",
    "    \n",
    "   elif 布尔表达式2:\n",
    "   \n",
    "     分支二\n",
    "     \n",
    "   else:\n",
    "   \n",
    "     分支三\n",
    "     "
   ]
  },
  {
   "cell_type": "code",
   "execution_count": 3,
   "metadata": {},
   "outputs": [
    {
     "name": "stdout",
     "output_type": "stream",
     "text": [
      "考试不及格\n"
     ]
    }
   ],
   "source": [
    "### 两个分支的示例\n",
    "score = 59\n",
    "if score < 60:\n",
    "    print('考试不及格')\n",
    "else:\n",
    "    print('考试及格')"
   ]
  },
  {
   "cell_type": "code",
   "execution_count": 7,
   "metadata": {},
   "outputs": [
    {
     "ename": "SyntaxError",
     "evalue": "invalid character in identifier (<ipython-input-7-f174e1d013d3>, line 4)",
     "output_type": "error",
     "traceback": [
      "\u001b[1;36m  File \u001b[1;32m\"<ipython-input-7-f174e1d013d3>\"\u001b[1;36m, line \u001b[1;32m4\u001b[0m\n\u001b[1;33m    else：\u001b[0m\n\u001b[1;37m        ^\u001b[0m\n\u001b[1;31mSyntaxError\u001b[0m\u001b[1;31m:\u001b[0m invalid character in identifier\n"
     ]
    }
   ],
   "source": [
    "score = 90\n",
    "if score > 60:\n",
    "    print('考试及格')\n",
    "else：\n",
    "    print('考试不及格')\n",
    "\n"
   ]
  },
  {
   "cell_type": "code",
   "execution_count": null,
   "metadata": {},
   "outputs": [],
   "source": []
  },
  {
   "cell_type": "markdown",
   "metadata": {},
   "source": [
    "# 3.2 基本举例"
   ]
  },
  {
   "cell_type": "markdown",
   "metadata": {},
   "source": [
    "  编写for循环语句"
   ]
  },
  {
   "cell_type": "code",
   "execution_count": 5,
   "metadata": {},
   "outputs": [
    {
     "name": "stdout",
     "output_type": "stream",
     "text": [
      "e\n",
      "f\n",
      "g\n",
      "s\n",
      "t\n",
      "r\n",
      "i\n",
      "n\n",
      "g\n"
     ]
    }
   ],
   "source": [
    "# 对列表和字符串进行迭代\n",
    "for a in ['e','f','g']:\n",
    "    print(a)\n",
    "\n",
    "for a in 'string':\n",
    "    print(a)"
   ]
  },
  {
   "cell_type": "markdown",
   "metadata": {},
   "source": [
    "  编写while循环语句\n",
    "\n",
    "  ![title](while循环.png)"
   ]
  },
  {
   "cell_type": "code",
   "execution_count": 4,
   "metadata": {},
   "outputs": [
    {
     "name": "stdout",
     "output_type": "stream",
     "text": [
      "计数： 0\n",
      "计数： 1\n",
      "计数： 2\n",
      "计数： 3\n",
      "计数： 4\n",
      "计数： 5\n",
      "计数： 6\n",
      "计数： 7\n",
      "计数： 8\n",
      "计数： 9\n",
      "计数： 10\n"
     ]
    }
   ],
   "source": [
    "#求和\n",
    "s = 0\n",
    "while(s <= 10):\n",
    "    print('计数：', s)\n",
    "    s = s + 1"
   ]
  },
  {
   "cell_type": "code",
   "execution_count": 18,
   "metadata": {},
   "outputs": [
    {
     "name": "stdout",
     "output_type": "stream",
     "text": [
      "0\n",
      "1\n",
      "2\n",
      "3\n",
      "4\n",
      "0\n",
      "2\n",
      "4\n"
     ]
    }
   ],
   "source": [
    "#range 函数\n",
    "for i in range(5):\n",
    "    print(i)\n",
    "\n",
    "for i in range(0,6,2):\n",
    "    print(i)"
   ]
  },
  {
   "cell_type": "code",
   "execution_count": 5,
   "metadata": {},
   "outputs": [
    {
     "name": "stdout",
     "output_type": "stream",
     "text": [
      "[1, 2, 3]\n"
     ]
    }
   ],
   "source": [
    "#直接使用for循环难以改变序列元素\n",
    "L = [1,2,3]\n",
    "for a in L:\n",
    "    a+=1                      #a不是引用，L中对应的元素没有发生改变\n",
    "print(L)"
   ]
  },
  {
   "cell_type": "markdown",
   "metadata": {},
   "source": [
    "  ### 运用break, pass语句"
   ]
  },
  {
   "cell_type": "markdown",
   "metadata": {},
   "source": [
    " break "
   ]
  },
  {
   "cell_type": "code",
   "execution_count": 36,
   "metadata": {},
   "outputs": [
    {
     "name": "stdout",
     "output_type": "stream",
     "text": [
      "0\n",
      "1\n"
     ]
    }
   ],
   "source": [
    "#用break\n",
    "for i in range(0,10):\n",
    "    print(i)\n",
    "    if i == 1:                     #当i等于1的时候跳出循环\n",
    "        break"
   ]
  },
  {
   "cell_type": "code",
   "execution_count": 37,
   "metadata": {},
   "outputs": [
    {
     "name": "stdout",
     "output_type": "stream",
     "text": [
      "0\n",
      "2\n",
      "3\n",
      "4\n",
      "5\n",
      "6\n",
      "7\n",
      "8\n",
      "9\n"
     ]
    }
   ],
   "source": [
    "#用break\n",
    "for i in range(0,10):\n",
    "    if i == 1:                     #当i等于1的时候跳出循环\n",
    "        continue\n",
    "    print(i)\n",
    "    "
   ]
  },
  {
   "cell_type": "code",
   "execution_count": null,
   "metadata": {},
   "outputs": [],
   "source": []
  },
  {
   "cell_type": "code",
   "execution_count": 7,
   "metadata": {},
   "outputs": [
    {
     "name": "stdout",
     "output_type": "stream",
     "text": [
      "2\n",
      "0\n"
     ]
    }
   ],
   "source": [
    "#使用continue\n",
    "s = 3\n",
    "while s > 0:\n",
    "    s = s - 1\n",
    "    if s == 1:                    #当s等于1时跳出循环\n",
    "        continue\n",
    "    print(s)"
   ]
  },
  {
   "cell_type": "markdown",
   "metadata": {},
   "source": [
    "pass 是空语句，保持程序结构的完整性。pass不做任何事情，一般用作占位语句."
   ]
  },
  {
   "cell_type": "code",
   "execution_count": 19,
   "metadata": {},
   "outputs": [
    {
     "name": "stdout",
     "output_type": "stream",
     "text": [
      "0\n",
      "pass块\n",
      "1\n",
      "2\n"
     ]
    }
   ],
   "source": [
    "for i in range(0,3):\n",
    "    if i == 1:\n",
    "        pass\n",
    "        print('pass块')\n",
    "    print(i)"
   ]
  },
  {
   "cell_type": "code",
   "execution_count": null,
   "metadata": {
    "collapsed": true
   },
   "outputs": [],
   "source": []
  }
 ],
 "metadata": {
  "anaconda-cloud": {},
  "kernelspec": {
   "display_name": "Python 3",
   "language": "python",
   "name": "python3"
  },
  "language_info": {
   "codemirror_mode": {
    "name": "ipython",
    "version": 3
   },
   "file_extension": ".py",
   "mimetype": "text/x-python",
   "name": "python",
   "nbconvert_exporter": "python",
   "pygments_lexer": "ipython3",
   "version": "3.6.5"
  }
 },
 "nbformat": 4,
 "nbformat_minor": 2
}
