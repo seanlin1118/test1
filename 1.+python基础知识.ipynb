{
 "cells": [
  {
   "cell_type": "markdown",
   "metadata": {},
   "source": [
    "# python\n"
   ]
  },
  {
   "cell_type": "markdown",
   "metadata": {},
   "source": [
    "### 1 创建应声虫程序"
   ]
  },
  {
   "cell_type": "markdown",
   "metadata": {},
   "source": [
    "# Python编程基础"
   ]
  },
  {
   "cell_type": "code",
   "execution_count": 1,
   "metadata": {},
   "outputs": [
    {
     "data": {
      "text/plain": [
       "('hello', 'world')"
      ]
     },
     "execution_count": 1,
     "metadata": {},
     "output_type": "execute_result"
    }
   ],
   "source": [
    "'hello world'\n",
    "'hello', 'world'"
   ]
  },
  {
   "cell_type": "code",
   "execution_count": 4,
   "metadata": {},
   "outputs": [
    {
     "name": "stdout",
     "output_type": "stream",
     "text": [
      "hello world\n"
     ]
    }
   ],
   "source": [
    "character = \"hello world\"\n",
    "print(character)\n"
   ]
  },
  {
   "cell_type": "code",
   "execution_count": 3,
   "metadata": {
    "scrolled": true
   },
   "outputs": [
    {
     "name": "stdout",
     "output_type": "stream",
     "text": [
      "input your character: 123\n",
      "123\n"
     ]
    }
   ],
   "source": [
    "character = input(\"input your character: \")\n",
    "print(character)"
   ]
  },
  {
   "cell_type": "code",
   "execution_count": 1,
   "metadata": {},
   "outputs": [
    {
     "name": "stdout",
     "output_type": "stream",
     "text": [
      "first: 20\n",
      "second: 59\n",
      "79\n"
     ]
    }
   ],
   "source": [
    "x = input(\"first: \")\n",
    "y = input(\"second: \")\n",
    "x = int(x)\n",
    "y = int(y)\n",
    "print(x+y)"
   ]
  },
  {
   "cell_type": "markdown",
   "metadata": {},
   "source": [
    "# 2. 基础知识\n",
    "## 2.1 注释"
   ]
  },
  {
   "cell_type": "code",
   "execution_count": 3,
   "metadata": {},
   "outputs": [
    {
     "name": "stdout",
     "output_type": "stream",
     "text": [
      "hello world\n",
      "hello world\n",
      "hello world\n"
     ]
    }
   ],
   "source": [
    "# 这是一个单独成行的注释\n",
    "print('hello world')\n",
    "\n",
    "# 这是一个多行的注释\n",
    "# 这是一个多行的注释\n",
    "# 这是一个多行的注释\n",
    "print('hello world')\n",
    "\n",
    "##单引号注释\n",
    "'''\n",
    "这是一个多行的注释\n",
    "这是一个多行的注释fdslfjds\n",
    "这是一个多行的注释\n",
    "'''\n",
    "'hello world'\n",
    "\n",
    "##双引号注释\n",
    "\"\"\"\n",
    "这是一个多行的注释\n",
    "这是一个多行的注释\n",
    "这是一个多行的注释\n",
    "\"\"\"\n",
    "print('hello world')\n"
   ]
  },
  {
   "cell_type": "code",
   "execution_count": 2,
   "metadata": {},
   "outputs": [
    {
     "name": "stdout",
     "output_type": "stream",
     "text": [
      "hello world\n"
     ]
    }
   ],
   "source": [
    "print('hello world')"
   ]
  },
  {
   "cell_type": "markdown",
   "metadata": {
    "collapsed": true
   },
   "source": [
    "# 2.1 python标识符与保留字符"
   ]
  },
  {
   "cell_type": "markdown",
   "metadata": {
    "collapsed": true
   },
   "source": [
    "### 1. python中的标识符是区分大小写的。\n",
    "### 2. 标示符以字母或下划线开头，可包括字母，下划线和数字。\n",
    "### 3. 以下划线开头的标识符是有特殊意义的。\n"
   ]
  },
  {
   "cell_type": "markdown",
   "metadata": {},
   "source": [
    "# 2.2 了解python变量"
   ]
  },
  {
   "cell_type": "code",
   "execution_count": 11,
   "metadata": {},
   "outputs": [
    {
     "name": "stdout",
     "output_type": "stream",
     "text": [
      "1503396432\n",
      "1503396432\n",
      "2 4\n",
      "1503396368\n"
     ]
    },
    {
     "data": {
      "text/plain": [
       "1503396432"
      ]
     },
     "execution_count": 11,
     "metadata": {},
     "output_type": "execute_result"
    }
   ],
   "source": [
    "# 内存空间的变化\n",
    "x = 4\n",
    "print(id(x)) \n",
    "y = x\n",
    "print(id(y)) \n",
    "\n",
    "x = 2\n",
    "print(x, y)\n",
    "print(id(x)) \n",
    "id(y) "
   ]
  },
  {
   "cell_type": "code",
   "execution_count": null,
   "metadata": {
    "collapsed": true
   },
   "outputs": [],
   "source": []
  },
  {
   "cell_type": "markdown",
   "metadata": {},
   "source": [
    "### 变量类型6种: 数字（Number）,字符串(String),列表(List),元组(Tuple),字典(Dictionary),集合(Sets)"
   ]
  },
  {
   "cell_type": "code",
   "execution_count": 4,
   "metadata": {},
   "outputs": [
    {
     "name": "stdout",
     "output_type": "stream",
     "text": [
      "1\n"
     ]
    },
    {
     "data": {
      "text/plain": [
       "'abc'"
      ]
     },
     "execution_count": 4,
     "metadata": {},
     "output_type": "execute_result"
    }
   ],
   "source": [
    "# 变量赋值\n",
    "a = b = c = 1 ## 一个值赋予多个变量\n",
    "print(a)\n",
    "\n",
    "cc = 345\n",
    "\n",
    "#多个变量同时赋值\n",
    "a,b ,c = 1,2,\"abc\"                        # 多个变量同时赋值\n",
    "a\n",
    "b\n",
    "c"
   ]
  },
  {
   "cell_type": "code",
   "execution_count": 6,
   "metadata": {},
   "outputs": [
    {
     "name": "stdout",
     "output_type": "stream",
     "text": [
      "What's happened\n"
     ]
    }
   ],
   "source": [
    "print('What\\'s happened')                         # 反斜杠（\\）转义单引号"
   ]
  },
  {
   "cell_type": "markdown",
   "metadata": {},
   "source": [
    "### 相互转化数值型变量\n",
    "### int (整数类型)； float (浮点数)； bool（布尔型）； complex (复数，实数和虚数部分)"
   ]
  },
  {
   "cell_type": "code",
   "execution_count": 7,
   "metadata": {},
   "outputs": [
    {
     "name": "stdout",
     "output_type": "stream",
     "text": [
      "1 0 -1\n",
      "1 0\n"
     ]
    },
    {
     "ename": "TypeError",
     "evalue": "can't convert complex to int",
     "output_type": "error",
     "traceback": [
      "\u001b[1;31m---------------------------------------------------------------------------\u001b[0m",
      "\u001b[1;31mTypeError\u001b[0m                                 Traceback (most recent call last)",
      "\u001b[1;32m<ipython-input-7-bccb0242988e>\u001b[0m in \u001b[0;36m<module>\u001b[1;34m()\u001b[0m\n\u001b[0;32m      2\u001b[0m \u001b[0mprint\u001b[0m\u001b[1;33m(\u001b[0m\u001b[0mint\u001b[0m\u001b[1;33m(\u001b[0m\u001b[1;36m1.56\u001b[0m\u001b[1;33m)\u001b[0m\u001b[1;33m,\u001b[0m \u001b[0mint\u001b[0m\u001b[1;33m(\u001b[0m\u001b[1;36m0.156\u001b[0m\u001b[1;33m)\u001b[0m\u001b[1;33m,\u001b[0m\u001b[0mint\u001b[0m\u001b[1;33m(\u001b[0m\u001b[1;33m-\u001b[0m\u001b[1;36m1.56\u001b[0m\u001b[1;33m)\u001b[0m\u001b[1;33m)\u001b[0m   \u001b[1;31m# 浮点数转整型\u001b[0m\u001b[1;33m\u001b[0m\u001b[0m\n\u001b[0;32m      3\u001b[0m \u001b[0mprint\u001b[0m\u001b[1;33m(\u001b[0m\u001b[0mint\u001b[0m\u001b[1;33m(\u001b[0m\u001b[1;32mTrue\u001b[0m\u001b[1;33m)\u001b[0m\u001b[1;33m,\u001b[0m \u001b[0mint\u001b[0m\u001b[1;33m(\u001b[0m\u001b[1;32mFalse\u001b[0m\u001b[1;33m)\u001b[0m\u001b[1;33m)\u001b[0m             \u001b[1;31m# 布尔型转整型\u001b[0m\u001b[1;33m\u001b[0m\u001b[0m\n\u001b[1;32m----> 4\u001b[1;33m \u001b[0mprint\u001b[0m\u001b[1;33m(\u001b[0m \u001b[0mint\u001b[0m\u001b[1;33m(\u001b[0m\u001b[1;36m1\u001b[0m\u001b[1;33m+\u001b[0m\u001b[1;36m23j\u001b[0m\u001b[1;33m)\u001b[0m \u001b[1;33m)\u001b[0m   \u001b[1;31m##复数型没法转成整型\u001b[0m\u001b[1;33m\u001b[0m\u001b[0m\n\u001b[0m",
      "\u001b[1;31mTypeError\u001b[0m: can't convert complex to int"
     ]
    }
   ],
   "source": [
    "## 其他类型数据转成整型int\n",
    "print(int(1.56), int(0.156),int(-1.56))   # 浮点数转整型\n",
    "print(int(True), int(False))             # 布尔型转整型\t\n",
    "print( int(1+23j) )   ##复数型没法转成整型"
   ]
  },
  {
   "cell_type": "code",
   "execution_count": 14,
   "metadata": {},
   "outputs": [
    {
     "name": "stdout",
     "output_type": "stream",
     "text": [
      "True\n",
      "True\n",
      "False\n",
      "True\n",
      "True\n",
      "False\n",
      "False\n",
      "False\n",
      "False\n"
     ]
    }
   ],
   "source": [
    "## 其他类型转成布尔型bool\n",
    "print(bool(1))\n",
    "print(bool(2))\n",
    "print(bool(0))                          # 整型转布尔型\n",
    "print( bool(1.0) )\n",
    "print( bool(2.3) )\n",
    "print( bool(0.0) )                     # 浮点数转布尔型\n",
    "print( bool(\"\") )\n",
    "print( bool([]) )\n",
    "print( bool({}) )        # 各种类型的空值转布尔型"
   ]
  },
  {
   "cell_type": "code",
   "execution_count": 45,
   "metadata": {},
   "outputs": [
    {
     "name": "stdout",
     "output_type": "stream",
     "text": [
      "This is a sentence.\n",
      "This is a sentence.\n",
      "This is the first sentence.\n",
      "   This is the second sentence.\n",
      "   This is the third sentence.\n",
      "What's happened\n",
      "D:\\name\\python\n"
     ]
    }
   ],
   "source": [
    "# 标识字符串\n",
    "print('This is a sentence.')                    # 单引号标识字符串\n",
    "\n",
    "# 双引号\n",
    "print(\"This is a sentence.\")                    # 双引号标识字符串\n",
    "\n",
    "# 三个单引号标识的一段字符串\n",
    "paragraph = '''\\\n",
    "This is the first sentence.\n",
    "   This is the second sentence.\n",
    "   This is the third sentence.'''\n",
    "print(paragraph)\n",
    "\n",
    "#字符串\n",
    "#print('What's happened')                          # 单引号标识的字符串中含有单引号\n",
    "print('What\\'s happened')                         # 反斜杠（\\）转义单引号\n",
    "\n",
    "# 指定原始字符串\n",
    "print(r'D:\\name\\python')                   # 用r(或者R)指定原始字符串\n"
   ]
  },
  {
   "cell_type": "code",
   "execution_count": 23,
   "metadata": {},
   "outputs": [
    {
     "name": "stdout",
     "output_type": "stream",
     "text": [
      "What's happened\n"
     ]
    }
   ],
   "source": [
    "print('What\\'s happened') "
   ]
  },
  {
   "cell_type": "code",
   "execution_count": null,
   "metadata": {},
   "outputs": [],
   "source": []
  },
  {
   "cell_type": "code",
   "execution_count": null,
   "metadata": {},
   "outputs": [],
   "source": [
    "print('D:\\name\\python')                    # 以反斜杠开头的特殊字符"
   ]
  },
  {
   "cell_type": "code",
   "execution_count": 16,
   "metadata": {},
   "outputs": [
    {
     "name": "stdout",
     "output_type": "stream",
     "text": [
      "h\n",
      "y\n",
      "y\n",
      "P\n",
      "n\n",
      "Pyt\n",
      "Pyt\n",
      "on\n"
     ]
    },
    {
     "data": {
      "text/plain": [
       "'th'"
      ]
     },
     "execution_count": 16,
     "metadata": {},
     "output_type": "execute_result"
    }
   ],
   "source": [
    "## 指定指定位置的字符\n",
    "word = 'Python'\n",
    "print(word[3])\n",
    "print(word[-5])\n",
    "\n",
    "print( word[1] )                              # 提取第二个字符\n",
    "print( word[0] )                             # 提取第一个字符\n",
    "print( word[-1] )                            # 提取最后一个字符\n",
    "\n",
    "#字符串切片\n",
    "print( word[0:3] )                               # 截取第一到第三个字符\n",
    "print( word[:3] )                                 # 截取第一到第三个字符\n",
    "print( word[4:] )                                 # 截取第五到最后一个字符\n",
    "\n",
    "word[2:4]"
   ]
  },
  {
   "cell_type": "code",
   "execution_count": 9,
   "metadata": {},
   "outputs": [
    {
     "name": "stdout",
     "output_type": "stream",
     "text": [
      "Pyt\n"
     ]
    }
   ],
   "source": [
    "word = 'Python'\n",
    "word[-6]\n",
    "print( word[0:3] )                               # 截取第一到第三个字符\n"
   ]
  },
  {
   "cell_type": "code",
   "execution_count": 22,
   "metadata": {},
   "outputs": [
    {
     "name": "stdout",
     "output_type": "stream",
     "text": [
      "hon\n",
      "\n",
      "\n",
      "\n"
     ]
    }
   ],
   "source": [
    "## 索引越界\n",
    "print( word[3:52] )                            # 第二个索引越界\n",
    "print( word[52:] )                              # 第一个索引超出字符串长度\n",
    "print( word[-1:3] )                             # 第一个索引为负，第二个索引正常\n",
    "print( word[5:3])                               # 第一个索引大于第二个索引"
   ]
  },
  {
   "cell_type": "code",
   "execution_count": null,
   "metadata": {
    "collapsed": true
   },
   "outputs": [],
   "source": []
  },
  {
   "cell_type": "code",
   "execution_count": 10,
   "metadata": {},
   "outputs": [
    {
     "name": "stdout",
     "output_type": "stream",
     "text": [
      "python\n",
      "Python is good good good\n",
      "Python is good\n"
     ]
    },
    {
     "data": {
      "text/plain": [
       "'Life is short,you need Python.'"
      ]
     },
     "execution_count": 10,
     "metadata": {},
     "output_type": "execute_result"
    }
   ],
   "source": [
    "#字符不可被修改\n",
    "#word[0] = 'p'                             # 字符不可被修改\n",
    "\n",
    "print('p'+word[1:])\n",
    "\n",
    "#字符串拼接\n",
    "print( 'Python is' + 3 *  ' good' )                    #  加号拼接字符串\n",
    "print('Python is' ' good')                           #  相邻字符串自然拼接\n",
    "\n",
    "#字符串修改\n",
    "sentence = 'Life is short,you need something.'\n",
    "sentence[:23] + 'Python.'"
   ]
  },
  {
   "cell_type": "code",
   "execution_count": 10,
   "metadata": {},
   "outputs": [
    {
     "name": "stdout",
     "output_type": "stream",
     "text": [
      "Python is good\n"
     ]
    }
   ],
   "source": [
    "print('Python is' ' good')    "
   ]
  },
  {
   "cell_type": "code",
   "execution_count": 12,
   "metadata": {},
   "outputs": [
    {
     "name": "stdout",
     "output_type": "stream",
     "text": [
      "Python is good good good\n"
     ]
    }
   ],
   "source": [
    "print( 'Python is' + 3 *  ' good' ) "
   ]
  },
  {
   "cell_type": "markdown",
   "metadata": {},
   "source": [
    "# 2.3 掌握常用操作运算符\n",
    "## 算术运算符"
   ]
  },
  {
   "cell_type": "code",
   "execution_count": 25,
   "metadata": {},
   "outputs": [
    {
     "name": "stdout",
     "output_type": "stream",
     "text": [
      "2.0 <class 'float'>\n",
      "2\n",
      "3 and 3.0\n",
      "2 and 2.0\n",
      "23除以10，商为： 2 ，余数为： 3\n"
     ]
    },
    {
     "data": {
      "text/plain": [
       "'PythonPythonPython'"
      ]
     },
     "execution_count": 25,
     "metadata": {},
     "output_type": "execute_result"
    }
   ],
   "source": [
    "print(2 / 1,  type(2 / 1))                                              # 单斜杠除法\n",
    "print(2 // 1)                                               # 双斜杠除法\n",
    "print(1 + 2,'and',1.0 + 2) ;  print(1 * 2,'and',1.0 * 2)                  # 加法和乘法\n",
    "print('23除以10，商为：',23 // 10,'，余数为：',23 % 10)            # 商和余数\n",
    "3 * 'Python'                                                    # 字符串的n次重复"
   ]
  },
  {
   "cell_type": "markdown",
   "metadata": {},
   "source": [
    "## 比较运算符"
   ]
  },
  {
   "cell_type": "markdown",
   "metadata": {},
   "source": [
    "###  ord 函数：将ASCII字符转换为对应的数值\n",
    "###  chr 函数：将数值转换为对应的ASCII字符"
   ]
  },
  {
   "cell_type": "code",
   "execution_count": 46,
   "metadata": {},
   "outputs": [
    {
     "name": "stdout",
     "output_type": "stream",
     "text": [
      "False True\n",
      "True False\n",
      "97 98\n",
      "a b\n"
     ]
    }
   ],
   "source": [
    "1 == 2 ;  1 != 2                                               # 数值的比较\n",
    "print('a' == 'b', 'a' != 'b') ;  print( 'a' < 'b','a' > 'b')               # 字母的比较\n",
    "print(ord('a'),ord('b'))                                         # 查看字母编码\n",
    "print(chr(97),chr(98))                                          # 查看编码对应的字符"
   ]
  },
  {
   "cell_type": "code",
   "execution_count": null,
   "metadata": {},
   "outputs": [],
   "source": []
  },
  {
   "cell_type": "markdown",
   "metadata": {},
   "source": [
    "## 赋值运算符"
   ]
  },
  {
   "cell_type": "code",
   "execution_count": 26,
   "metadata": {},
   "outputs": [
    {
     "name": "stdout",
     "output_type": "stream",
     "text": [
      "3\n",
      "a： 3\n",
      "a += 4特殊赋值运算后，a： 7\n"
     ]
    },
    {
     "ename": "NameError",
     "evalue": "name 'f' is not defined",
     "output_type": "error",
     "traceback": [
      "\u001b[0;31m---------------------------------------------------------------------------\u001b[0m",
      "\u001b[0;31mNameError\u001b[0m                                 Traceback (most recent call last)",
      "\u001b[0;32m<ipython-input-26-96909b0f848a>\u001b[0m in \u001b[0;36m<module>\u001b[0;34m()\u001b[0m\n\u001b[1;32m      1\u001b[0m \u001b[0ma\u001b[0m \u001b[1;33m=\u001b[0m \u001b[1;36m1\u001b[0m \u001b[1;33m+\u001b[0m \u001b[1;36m2\u001b[0m \u001b[1;33m;\u001b[0m  \u001b[0mprint\u001b[0m\u001b[1;33m(\u001b[0m\u001b[0ma\u001b[0m\u001b[1;33m)\u001b[0m                                                 \u001b[1;31m# 简单赋值运算\u001b[0m\u001b[1;33m\u001b[0m\u001b[0m\n\u001b[1;32m      2\u001b[0m \u001b[0mprint\u001b[0m\u001b[1;33m(\u001b[0m\u001b[1;34m'a：'\u001b[0m\u001b[1;33m,\u001b[0m\u001b[0ma\u001b[0m\u001b[1;33m)\u001b[0m \u001b[1;33m;\u001b[0m   \u001b[0ma\u001b[0m \u001b[1;33m+=\u001b[0m \u001b[1;36m4\u001b[0m \u001b[1;33m;\u001b[0m  \u001b[0mprint\u001b[0m\u001b[1;33m(\u001b[0m\u001b[1;34m'a += 4特殊赋值运算后，a：'\u001b[0m\u001b[1;33m,\u001b[0m\u001b[0ma\u001b[0m\u001b[1;33m)\u001b[0m        \u001b[1;31m# 特殊赋值运算\u001b[0m\u001b[1;33m\u001b[0m\u001b[0m\n\u001b[0;32m----> 3\u001b[0;31m \u001b[0mf\u001b[0m \u001b[1;33m+=\u001b[0m \u001b[1;36m4\u001b[0m                                                   \u001b[1;31m# 未定义变量不能进行特殊赋值运算\u001b[0m\u001b[1;33m\u001b[0m\u001b[0m\n\u001b[0m",
      "\u001b[0;31mNameError\u001b[0m: name 'f' is not defined"
     ]
    }
   ],
   "source": [
    "a = 1 + 2 ;  print(a)                                                 # 简单赋值运算\n",
    "print('a：',a) ;   a += 4 ;  print('a += 4特殊赋值运算后，a：',a)        # 特殊赋值运算\n",
    "f += 4      \n",
    "f = f+4\n",
    "# 未定义变量不能进行特殊赋值运算"
   ]
  },
  {
   "cell_type": "markdown",
   "metadata": {},
   "source": [
    "## 逻辑运算符"
   ]
  },
  {
   "cell_type": "code",
   "execution_count": 14,
   "metadata": {},
   "outputs": [
    {
     "name": "stdout",
     "output_type": "stream",
     "text": [
      "a = 11,b =22\n",
      "a and b = 22\n",
      "a or b = 11\n",
      "not(a and b) = False\n",
      "a = 0,b =22\n",
      "a and b = 0\n",
      "a or b = 22\n",
      "not(a and b) = True\n"
     ]
    }
   ],
   "source": [
    "a = 11;b = 22; print('a = 11,b =22')                                             # 初始赋值\n",
    "print('a and b =',a and b); print('a or b =',a or b); print('not(a and b) =', not(a and b));    # and、or、not运算\n",
    "\n",
    "a = 0;b = 22; print('a = 0,b =22')                                             # 初始赋值\n",
    "print('a and b =',a and b); print('a or b =',a or b); print('not(a and b) =', not(a and b));    # and、or、not运算\n"
   ]
  },
  {
   "cell_type": "code",
   "execution_count": null,
   "metadata": {
    "collapsed": true
   },
   "outputs": [],
   "source": []
  },
  {
   "cell_type": "markdown",
   "metadata": {},
   "source": [
    "## 成员运算符"
   ]
  },
  {
   "cell_type": "code",
   "execution_count": 49,
   "metadata": {},
   "outputs": [
    {
     "name": "stdout",
     "output_type": "stream",
     "text": [
      "True\n",
      "False\n",
      "False\n",
      "True\n"
     ]
    }
   ],
   "source": [
    "List = [1,2,3.0,[4,5],'Python3']                     # 初始化列表List\n",
    "print([4,5] in List)                                       # 查看1是否在列表内\n",
    "print([1] in List)                                      # 查看[1]是否在列表内   \n",
    "3 in List                                       # 查看3是否在列表内\n",
    "[4,5] in List                                     # 查看[4,5]是否在列表内\n",
    "print('Python' in List)                                 # 查看字符串’Python’是否在列表内\n",
    "print('Python3' in List)                                # 查看字符串’Python3’是否在列表内"
   ]
  },
  {
   "cell_type": "code",
   "execution_count": null,
   "metadata": {
    "collapsed": true
   },
   "outputs": [],
   "source": []
  },
  {
   "cell_type": "markdown",
   "metadata": {},
   "source": [
    "## 身份运算符"
   ]
  },
  {
   "cell_type": "code",
   "execution_count": 64,
   "metadata": {},
   "outputs": [
    {
     "name": "stdout",
     "output_type": "stream",
     "text": [
      "a = 11,b = 11\n",
      "1632305968\n",
      "1632305968\n",
      "a = 11,b = 22\n"
     ]
    },
    {
     "data": {
      "text/plain": [
       "1632306320"
      ]
     },
     "execution_count": 64,
     "metadata": {},
     "output_type": "execute_result"
    }
   ],
   "source": [
    "a = 11 ;  b = 11 ;  print('a = 11,b = 11')                     # 初始化a、b\n",
    "a is b ;  a is not b                                       # 身份运算\n",
    "print(id(a)) ;  print(id(b))                                            # 查看id地址   \n",
    "a = 11 ;  b = 22 ;  print('a = 11,b = 22')                     # 重新赋值b\n",
    "a is b ;  a is not b                                       # 身份运算\n",
    "id(a) ;  id(b)                                            # 查看id   "
   ]
  },
  {
   "cell_type": "markdown",
   "metadata": {},
   "source": [
    "## 掌握运算符优先级"
   ]
  },
  {
   "cell_type": "code",
   "execution_count": 65,
   "metadata": {},
   "outputs": [
    {
     "name": "stdout",
     "output_type": "stream",
     "text": [
      "96.0\n"
     ]
    },
    {
     "data": {
      "text/plain": [
       "-17"
      ]
     },
     "execution_count": 65,
     "metadata": {},
     "output_type": "execute_result"
    }
   ],
   "source": [
    "24 + 12 / 6 ** 2 * 18                            # 24+12/36*18 → 24+(1/3)*18 → 24+6\n",
    "24 + 12 / ( 6 ** 2 ) * 18                          # 24+12/36*18 → 24+(1/3)*18 → 24+6\n",
    "24 + ( 12 / ( 6 ** 2 ) ) * 18                        # 24+(12/36)*18 → 24+(1/3)*18 → 24+6   \n",
    "print( 24 + ( 12 / 6 ) ** 2 * 18 )                          # 24+2**2*18 → 24+4*18 → 24+72\n",
    "( 24 + 12 ) / 6 ** 2 * 18                          # 36/6**2*18 → 36/36*18 → 1*18\n",
    "- 4 * 5 + 3                                     # -20+3    \n",
    "4 * - 5 + 3                                     # -20+3  "
   ]
  },
  {
   "cell_type": "code",
   "execution_count": null,
   "metadata": {
    "collapsed": true
   },
   "outputs": [],
   "source": []
  }
 ],
 "metadata": {
  "anaconda-cloud": {},
  "kernelspec": {
   "display_name": "Python 3",
   "language": "python",
   "name": "python3"
  },
  "language_info": {
   "codemirror_mode": {
    "name": "ipython",
    "version": 3
   },
   "file_extension": ".py",
   "mimetype": "text/x-python",
   "name": "python",
   "nbconvert_exporter": "python",
   "pygments_lexer": "ipython3",
   "version": "3.6.5"
  }
 },
 "nbformat": 4,
 "nbformat_minor": 2
}
