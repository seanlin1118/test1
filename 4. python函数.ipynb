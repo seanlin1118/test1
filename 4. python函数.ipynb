{
 "cells": [
  {
   "cell_type": "markdown",
   "metadata": {},
   "source": [
    "# Python函数"
   ]
  },
  {
   "cell_type": "code",
   "execution_count": 7,
   "metadata": {},
   "outputs": [],
   "source": [
    "def sums(x, y):\n",
    "    s = 3*x**2 + 4*y**2\n",
    "    return(s)"
   ]
  },
  {
   "cell_type": "code",
   "execution_count": 3,
   "metadata": {},
   "outputs": [],
   "source": [
    "def sums(a, b):\n",
    "    s = a+b\n",
    "    return(s)"
   ]
  },
  {
   "cell_type": "code",
   "execution_count": 4,
   "metadata": {},
   "outputs": [
    {
     "data": {
      "text/plain": [
       "77"
      ]
     },
     "execution_count": 4,
     "metadata": {},
     "output_type": "execute_result"
    }
   ],
   "source": [
    "sums(33, 44)"
   ]
  },
  {
   "cell_type": "code",
   "execution_count": 8,
   "metadata": {},
   "outputs": [
    {
     "data": {
      "text/plain": [
       "148"
      ]
     },
     "execution_count": 8,
     "metadata": {},
     "output_type": "execute_result"
    }
   ],
   "source": [
    "sums(4, 5)"
   ]
  },
  {
   "cell_type": "code",
   "execution_count": 2,
   "metadata": {},
   "outputs": [
    {
     "data": {
      "text/plain": [
       "69"
      ]
     },
     "execution_count": 2,
     "metadata": {},
     "output_type": "execute_result"
    }
   ],
   "source": [
    "## 定义了一个计算每天利息的函数，其中，天数的默认值为1，年化率的默认值为0.05\n",
    "输入本金"
   ]
  },
  {
   "cell_type": "code",
   "execution_count": 1,
   "metadata": {},
   "outputs": [],
   "source": [
    "def f(a,b):\n",
    "    s = a**b\n",
    "    return(s)"
   ]
  },
  {
   "cell_type": "code",
   "execution_count": 3,
   "metadata": {},
   "outputs": [
    {
     "data": {
      "text/plain": [
       "64"
      ]
     },
     "execution_count": 3,
     "metadata": {},
     "output_type": "execute_result"
    }
   ],
   "source": [
    "f(4,3)"
   ]
  },
  {
   "cell_type": "markdown",
   "metadata": {},
   "source": [
    "# 4.1 自定义函数"
   ]
  },
  {
   "cell_type": "markdown",
   "metadata": {},
   "source": [
    "### 4.1.1 函数定义\n",
    "def my_function(parameter):\n",
    "\n",
    "   '''打印任何传入的字符串'''\n",
    "\n",
    "   print (parameter);  # print与return没有关系，也不会相互影响\n",
    "   \n",
    "   return 'parameter is '+parameter  # 分号与C语言中一样是断句，但在R语言中不行"
   ]
  },
  {
   "cell_type": "markdown",
   "metadata": {},
   "source": [
    "### 4.1.2 设置函数参数"
   ]
  },
  {
   "cell_type": "markdown",
   "metadata": {},
   "source": [
    " 默认参数： 定义函数时为参数提供的默认值，调用函数时，默认参数的值可传可不传\n",
    " \n",
    " 可变参数： 定义函数时，有时候不确定调用时会传递多少个参数（不传参数也可以）"
   ]
  },
  {
   "cell_type": "markdown",
   "metadata": {},
   "source": [
    "### 默认参数"
   ]
  },
  {
   "cell_type": "code",
   "execution_count": 9,
   "metadata": {},
   "outputs": [
    {
     "name": "stdout",
     "output_type": "stream",
     "text": [
      "0.684931506849315\n",
      "1.36986301369863\n"
     ]
    }
   ],
   "source": [
    "## 定义了一个计算利息的函数，其中，天数的默认值为1，年化率的默认值为0.05\n",
    "def interest(money,day = 1,interest_rate= 0.05):\n",
    "    income = 0\n",
    "    income = money*interest_rate*day/365\n",
    "    print(income)\n",
    "\n",
    "# 代码 5-3\n",
    "interest(5000)  #本金为5000，年化利率为默认值0.05时的单日利息\n",
    "\n",
    "interest(10000) #本金为10000，年化利率为默认值0.05时的单日利息\n"
   ]
  },
  {
   "cell_type": "markdown",
   "metadata": {},
   "source": [
    "### 4.1.3 返回函数值"
   ]
  },
  {
   "cell_type": "code",
   "execution_count": 9,
   "metadata": {},
   "outputs": [
    {
     "name": "stdout",
     "output_type": "stream",
     "text": [
      "0.136986301369863\n"
     ]
    },
    {
     "data": {
      "text/plain": [
       "0.136986301369863"
      ]
     },
     "execution_count": 9,
     "metadata": {},
     "output_type": "execute_result"
    }
   ],
   "source": [
    "## return函数\n",
    "def interest_r(money,day = 1,interest_rate= 0.05):\n",
    "    income = 0\n",
    "    income = money*interest_rate*day/365\n",
    "    return income\n",
    "\n",
    "x = interest(1000)\n",
    "x\n",
    "\n",
    "y = interest_r(1000)\n",
    "y"
   ]
  },
  {
   "cell_type": "code",
   "execution_count": null,
   "metadata": {
    "collapsed": true
   },
   "outputs": [],
   "source": []
  },
  {
   "cell_type": "markdown",
   "metadata": {},
   "source": [
    "### 4.1.4 调用自定义函数 "
   ]
  },
  {
   "cell_type": "code",
   "execution_count": 3,
   "metadata": {},
   "outputs": [
    {
     "name": "stdout",
     "output_type": "stream",
     "text": [
      "5.7534246575342465\n",
      "5.7534246575342465\n"
     ]
    }
   ],
   "source": [
    "### 设置关键字参数\n",
    "interest(money=5000,day=7,interest_rate=0.06)\n",
    "\n",
    "interest(day=7,money=5000,interest_rate=0.06)"
   ]
  },
  {
   "cell_type": "markdown",
   "metadata": {},
   "source": [
    "#### 习题：输入一个数，判断是否为素数"
   ]
  },
  {
   "cell_type": "code",
   "execution_count": 5,
   "metadata": {},
   "outputs": [
    {
     "name": "stdout",
     "output_type": "stream",
     "text": [
      "请输入一个数：9\n",
      "3\n",
      "不是素数\n"
     ]
    }
   ],
   "source": [
    "## -----------------判断一个数是否是素数------------------\n",
    "def sushu(a):\n",
    "    i=1\n",
    "    for i in range(2,a):\n",
    "        if a%i==0:\n",
    "            print(i)\n",
    "            break\n",
    "    if i==a-1:\n",
    "        print('素数')\n",
    "    else:\n",
    "        print('不是素数')\n",
    "    \n",
    "if __name__==\"__main__\":\n",
    "    nn = input(\"请输入一个数：\")\n",
    "    nn = int(nn)\n",
    "    sushu(nn)\n"
   ]
  },
  {
   "cell_type": "code",
   "execution_count": null,
   "metadata": {},
   "outputs": [],
   "source": []
  },
  {
   "cell_type": "code",
   "execution_count": null,
   "metadata": {},
   "outputs": [],
   "source": []
  }
 ],
 "metadata": {
  "anaconda-cloud": {},
  "kernelspec": {
   "display_name": "Python 3",
   "language": "python",
   "name": "python3"
  },
  "language_info": {
   "codemirror_mode": {
    "name": "ipython",
    "version": 3
   },
   "file_extension": ".py",
   "mimetype": "text/x-python",
   "name": "python",
   "nbconvert_exporter": "python",
   "pygments_lexer": "ipython3",
   "version": "3.6.5"
  }
 },
 "nbformat": 4,
 "nbformat_minor": 2
}
